{
 "cells": [
  {
   "cell_type": "markdown",
   "id": "bdec41a0-5d47-4ddc-bdef-8266bd5b11ab",
   "metadata": {},
   "source": [
    "Chapter 8"
   ]
  },
  {
   "cell_type": "markdown",
   "id": "e8a23f94-d4aa-4a33-9d19-0cda20839226",
   "metadata": {},
   "source": [
    "# Algorithm Workbench 2,7"
   ]
  },
  {
   "cell_type": "markdown",
   "id": "5d6dd904-04fb-4e24-8747-a4c475687696",
   "metadata": {},
   "source": [
    "## 2. write a loop that counts the number of space characters that appear in the strings referenced by mystring "
   ]
  },
  {
   "cell_type": "code",
   "execution_count": 5,
   "id": "68869435-bd91-4000-9df6-a9035241a95b",
   "metadata": {},
   "outputs": [
    {
     "ename": "SyntaxError",
     "evalue": "EOL while scanning string literal (1601936307.py, line 1)",
     "output_type": "error",
     "traceback": [
      "\u001b[0;36m  Input \u001b[0;32mIn [5]\u001b[0;36m\u001b[0m\n\u001b[0;31m    mystring = 'This is a sample string with spaces.\u001b[0m\n\u001b[0m                                                    ^\u001b[0m\n\u001b[0;31mSyntaxError\u001b[0m\u001b[0;31m:\u001b[0m EOL while scanning string literal\n"
     ]
    }
   ],
   "source": [
    "mystring = 'This is a sample string with spaces.\n",
    "\n",
    "# a counter to keep track of space characters\n",
    "space_count = 0\n",
    "\n",
    "# each character in the string\n",
    "for char in mystring:\n",
    "    if char == ' ':\n",
    "        space_count += 1\n",
    "\n",
    "# total count of space characters\n",
    "print('the number of space characters is:', space_count)"
   ]
  },
  {
   "cell_type": "markdown",
   "id": "16099be3-ba77-4e1e-8993-d62f7ca5df90",
   "metadata": {},
   "source": [
    "had to fix my quotations "
   ]
  },
  {
   "cell_type": "code",
   "execution_count": 7,
   "id": "c2d8aece-9cf0-439b-b8fd-eb9def6a842e",
   "metadata": {},
   "outputs": [
    {
     "name": "stdout",
     "output_type": "stream",
     "text": [
      "the number of space characters is: 6\n"
     ]
    }
   ],
   "source": [
    "mystring = 'This is a sample string with spaces.'\n",
    "\n",
    "# a counter to keep track of space characters\n",
    "space_count = 0\n",
    "\n",
    "# each character in the string\n",
    "for char in mystring:\n",
    "    if char == ' ':\n",
    "        space_count += 1\n",
    "\n",
    "# total count of space characters\n",
    "print('the number of space characters is:', space_count)"
   ]
  },
  {
   "cell_type": "markdown",
   "id": "c1f9f9fe-bc1c-4ea9-88d4-142261897c0c",
   "metadata": {},
   "source": [
    "## 7. write a function that accepts a string as an argument and displays the string backwards"
   ]
  },
  {
   "cell_type": "code",
   "execution_count": 13,
   "id": "be0ab23b-8514-4769-88bf-14d35c82456f",
   "metadata": {},
   "outputs": [],
   "source": [
    "def reverse_string(input_string):\n",
    "    reversed_string = input_string[::-1]\n",
    "    print('Original string:', input_string)\n",
    "    print('Reversed string:', reversed_string)"
   ]
  },
  {
   "cell_type": "markdown",
   "id": "8b95a0f0-77b2-4daa-8ee3-89ba54a9aee9",
   "metadata": {},
   "source": [
    "missing string?"
   ]
  },
  {
   "cell_type": "code",
   "execution_count": 18,
   "id": "1ad11b83-4293-43b2-9463-439a84ae870b",
   "metadata": {},
   "outputs": [
    {
     "name": "stdout",
     "output_type": "stream",
     "text": [
      "Original string: python is fun!\n",
      "Reversed string: !nuf si nohtyp\n"
     ]
    }
   ],
   "source": [
    "def reverse_string(input_string):\n",
    "    reversed_string = input_string[::-1]\n",
    "    print('Original string:', input_string)\n",
    "    print('Reversed string:', reversed_string)\n",
    "# test the function  \n",
    "my_string = 'python is fun!'\n",
    "reverse_string(my_string)"
   ]
  },
  {
   "cell_type": "code",
   "execution_count": 20,
   "id": "2c54d6ba-b3f3-4236-ba87-326d8eb08b75",
   "metadata": {},
   "outputs": [
    {
     "name": "stdout",
     "output_type": "stream",
     "text": [
      "Original string: averi cooper\n",
      "Reversed string: repooc ireva\n"
     ]
    }
   ],
   "source": [
    "def reverse_string(input_string):\n",
    "    reversed_string = input_string[::-1]\n",
    "    print('Original string:', input_string)\n",
    "    print('Reversed string:', reversed_string)\n",
    "# test the function  \n",
    "my_string = 'averi cooper'\n",
    "reverse_string(my_string)"
   ]
  },
  {
   "cell_type": "markdown",
   "id": "305c5992-4e9c-49e4-b19b-e305e318e029",
   "metadata": {},
   "source": [
    "# Programming exercises 1,3,9,10"
   ]
  },
  {
   "cell_type": "markdown",
   "id": "87605535-cdef-4f1f-9464-d215966da56d",
   "metadata": {},
   "source": [
    "## 1. write a program that gets a string containing a persons first, middle, and last names, and displays their first, middle, and last initials. for example,, if the user enters John William Smith, the program should display J.W.S."
   ]
  },
  {
   "cell_type": "code",
   "execution_count": 26,
   "id": "aa18b887-a5c9-4376-895b-2b02b57020ad",
   "metadata": {},
   "outputs": [
    {
     "name": "stdin",
     "output_type": "stream",
     "text": [
      "enter your first, middle, and last names:  averi cooper\n"
     ]
    },
    {
     "ename": "TypeError",
     "evalue": "'builtin_function_or_method' object is not iterable",
     "output_type": "error",
     "traceback": [
      "\u001b[0;31m---------------------------------------------------------------------------\u001b[0m",
      "\u001b[0;31mTypeError\u001b[0m                                 Traceback (most recent call last)",
      "Input \u001b[0;32mIn [26]\u001b[0m, in \u001b[0;36m<cell line: 11>\u001b[0;34m()\u001b[0m\n\u001b[1;32m      8\u001b[0m initials \u001b[38;5;241m=\u001b[39m \u001b[38;5;124m'\u001b[39m\u001b[38;5;124m'\u001b[39m\n\u001b[1;32m     10\u001b[0m \u001b[38;5;66;03m# extract the first character from each\u001b[39;00m\n\u001b[0;32m---> 11\u001b[0m \u001b[38;5;28;01mfor\u001b[39;00m name \u001b[38;5;129;01min\u001b[39;00m names:\n\u001b[1;32m     12\u001b[0m     initials \u001b[38;5;241m+\u001b[39m\u001b[38;5;241m=\u001b[39m name[\u001b[38;5;241m0\u001b[39m]\u001b[38;5;241m.\u001b[39mupper() \u001b[38;5;241m+\u001b[39m \u001b[38;5;124m'\u001b[39m\u001b[38;5;124m.\u001b[39m\u001b[38;5;124m'\u001b[39m\n\u001b[1;32m     14\u001b[0m \u001b[38;5;66;03m# display the initials\u001b[39;00m\n",
      "\u001b[0;31mTypeError\u001b[0m: 'builtin_function_or_method' object is not iterable"
     ]
    }
   ],
   "source": [
    "# get the full name from the user\n",
    "full_name = input('enter your first, middle, and last names: ')\n",
    "\n",
    "# split full name into separate names\n",
    "names = full_name.split\n",
    "\n",
    "# initialize variables to store initials\n",
    "initials = ''\n",
    "\n",
    "# extract the first character from each\n",
    "for name in names:\n",
    "    initials += name[0].upper() + '.'\n",
    "\n",
    "# display the initials\n",
    "print('Initials:', initials)"
   ]
  },
  {
   "cell_type": "markdown",
   "id": "123ea52c-65de-49bb-9ed4-58a2a20639b5",
   "metadata": {},
   "source": [
    "missing parenthesis after split"
   ]
  },
  {
   "cell_type": "code",
   "execution_count": 29,
   "id": "5b5ac304-0954-4ef6-a255-1311f04b1db9",
   "metadata": {},
   "outputs": [
    {
     "name": "stdin",
     "output_type": "stream",
     "text": [
      "enter your first, middle, and last names:  averi lynn cooper\n"
     ]
    },
    {
     "name": "stdout",
     "output_type": "stream",
     "text": [
      "Initials: A.L.C.\n"
     ]
    }
   ],
   "source": [
    "# get the full name from the user\n",
    "full_name = input('enter your first, middle, and last names: ')\n",
    "\n",
    "# split full name into separate names\n",
    "names = full_name.split()\n",
    "\n",
    "# initialize variables to store initials\n",
    "initials = ''\n",
    "\n",
    "# extract the first character from each\n",
    "for name in names:\n",
    "    initials += name[0].upper() + '.'\n",
    "\n",
    "# display the initials\n",
    "print('Initials:', initials)"
   ]
  },
  {
   "cell_type": "code",
   "execution_count": 31,
   "id": "820b5e31-96cc-421f-a44b-c05dd35cf765",
   "metadata": {},
   "outputs": [
    {
     "name": "stdin",
     "output_type": "stream",
     "text": [
      "enter your first, middle, and last names:  khdbkj kadhbvka bdvc \n"
     ]
    },
    {
     "name": "stdout",
     "output_type": "stream",
     "text": [
      "Initials: K.K.B.\n"
     ]
    }
   ],
   "source": [
    "# get the full name from the user\n",
    "full_name = input('enter your first, middle, and last names: ')\n",
    "\n",
    "# split full name into separate names\n",
    "names = full_name.split()\n",
    "\n",
    "# initialize variables to store initials\n",
    "initials = ''\n",
    "\n",
    "# extract the first character from each\n",
    "for name in names:\n",
    "    initials += name[0].upper() + '.'\n",
    "\n",
    "# display the initials\n",
    "print('Initials:', initials)"
   ]
  },
  {
   "cell_type": "markdown",
   "id": "64200ef0-db48-4b38-a12f-7c6d5da09ced",
   "metadata": {},
   "source": [
    "## 3. write a program that reads a string from the user containing a date in the form mm/dd/yyyy. it should print the date in the format March 12, 2018"
   ]
  },
  {
   "cell_type": "code",
   "execution_count": 34,
   "id": "6737f0c7-209d-45a3-8c9c-8b12a23c917a",
   "metadata": {},
   "outputs": [
    {
     "name": "stdin",
     "output_type": "stream",
     "text": [
      "Enter a date in the format mm/dd/yyyy:  06/06/1997\n"
     ]
    },
    {
     "ename": "TypeError",
     "evalue": "'builtin_function_or_method' object is not subscriptable",
     "output_type": "error",
     "traceback": [
      "\u001b[0;31m---------------------------------------------------------------------------\u001b[0m",
      "\u001b[0;31mTypeError\u001b[0m                                 Traceback (most recent call last)",
      "Input \u001b[0;32mIn [34]\u001b[0m, in \u001b[0;36m<cell line: 8>\u001b[0;34m()\u001b[0m\n\u001b[1;32m      5\u001b[0m date_parts \u001b[38;5;241m=\u001b[39m date_str\u001b[38;5;241m.\u001b[39msplit\n\u001b[1;32m      7\u001b[0m \u001b[38;5;66;03m# extract month, day, and year\u001b[39;00m\n\u001b[0;32m----> 8\u001b[0m month \u001b[38;5;241m=\u001b[39m \u001b[43mdate_parts\u001b[49m\u001b[43m[\u001b[49m\u001b[38;5;241;43m0\u001b[39;49m\u001b[43m]\u001b[49m\n\u001b[1;32m      9\u001b[0m day \u001b[38;5;241m=\u001b[39m date_parts[\u001b[38;5;241m1\u001b[39m]\n\u001b[1;32m     10\u001b[0m year \u001b[38;5;241m=\u001b[39m date_parts[\u001b[38;5;241m2\u001b[39m]\n",
      "\u001b[0;31mTypeError\u001b[0m: 'builtin_function_or_method' object is not subscriptable"
     ]
    }
   ],
   "source": [
    "# get the date in right format \n",
    "date_str = input('Enter a date in the format mm/dd/yyyy: ')\n",
    "\n",
    "# split the date into month, day, and year\n",
    "date_parts = date_str.split\n",
    "\n",
    "# extract month, day, and year\n",
    "month = date_parts[0]\n",
    "day = date_parts[1]\n",
    "year = date_parts[2]\n",
    "\n",
    "# list of month names\n",
    "months = ['January', 'February', 'March', 'April', 'May', 'June',\n",
    "          'July', 'August', 'September', 'October', 'November', 'December']\n",
    "\n",
    "# get the month name\n",
    "month_name = months[int(month) - 1]\n",
    "\n",
    "# format date\n",
    "formatted_date = f'{month_name} {day}, {year}'\n",
    "\n",
    "# print formatted date\n",
    "print('Formatted date:', formatted_date)"
   ]
  },
  {
   "cell_type": "markdown",
   "id": "1efd9bc7-0cbb-44c5-8c3f-c0f8331fccda",
   "metadata": {},
   "source": [
    "fixing split function"
   ]
  },
  {
   "cell_type": "code",
   "execution_count": 37,
   "id": "8dbb47bb-139b-4faa-8b05-3e117e90ac41",
   "metadata": {},
   "outputs": [
    {
     "name": "stdin",
     "output_type": "stream",
     "text": [
      "Enter a date in the format mm/dd/yyyy:  11/10/1998\n"
     ]
    },
    {
     "name": "stdout",
     "output_type": "stream",
     "text": [
      "Formatted date: November 10, 1998\n"
     ]
    }
   ],
   "source": [
    "# get the date in right format \n",
    "date_str = input('Enter a date in the format mm/dd/yyyy: ')\n",
    "\n",
    "# split the date into month, day, and year\n",
    "date_parts = date_str.split('/')\n",
    "\n",
    "# extract month, day, and year\n",
    "month = date_parts[0]\n",
    "day = date_parts[1]\n",
    "year = date_parts[2]\n",
    "\n",
    "# list of month names\n",
    "months = ['January', 'February', 'March', 'April', 'May', 'June',\n",
    "          'July', 'August', 'September', 'October', 'November', 'December']\n",
    "\n",
    "# get the month name\n",
    "month_name = months[int(month) - 1]\n",
    "\n",
    "# format date\n",
    "formatted_date = f'{month_name} {day}, {year}'\n",
    "\n",
    "# print formatted date\n",
    "print('Formatted date:', formatted_date)"
   ]
  },
  {
   "cell_type": "code",
   "execution_count": null,
   "id": "9ba8c6b5-fcab-454c-b899-d10d2e1a3b36",
   "metadata": {},
   "outputs": [],
   "source": [
    "# get the date in right format \n",
    "date_str = input('Enter a date in the format mm/dd/yyyy: ')\n",
    "\n",
    "# split the date into month, day, and year\n",
    "date_parts = date_str.split('/')\n",
    "\n",
    "# extract month, day, and year\n",
    "month = date_parts[0]\n",
    "day = date_parts[1]\n",
    "year = date_parts[2]\n",
    "\n",
    "# list of month names\n",
    "months = ['January', 'February', 'March', 'April', 'May', 'June',\n",
    "          'July', 'August', 'September', 'October', 'November', 'December']\n",
    "\n",
    "# get the month name\n",
    "month_name = months[int(month) - 1]\n",
    "\n",
    "# format date\n",
    "formatted_date = f'{month_name} {day}, {year}'\n",
    "\n",
    "# print formatted date\n",
    "print('Formatted date:', formatted_date)"
   ]
  },
  {
   "cell_type": "code",
   "execution_count": null,
   "id": "931060fb-22ff-4388-a4ea-4648c0b11fc0",
   "metadata": {},
   "outputs": [],
   "source": []
  }
 ],
 "metadata": {
  "kernelspec": {
   "display_name": "anaconda-2022.05-py39",
   "language": "python",
   "name": "conda-env-anaconda-2022.05-py39-py"
  },
  "language_info": {
   "codemirror_mode": {
    "name": "ipython",
    "version": 3
   },
   "file_extension": ".py",
   "mimetype": "text/x-python",
   "name": "python",
   "nbconvert_exporter": "python",
   "pygments_lexer": "ipython3",
   "version": "3.9.12"
  }
 },
 "nbformat": 4,
 "nbformat_minor": 5
}
