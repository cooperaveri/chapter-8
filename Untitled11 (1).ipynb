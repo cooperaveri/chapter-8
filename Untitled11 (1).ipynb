{
 "cells": [
  {
   "cell_type": "markdown",
   "id": "bdec41a0-5d47-4ddc-bdef-8266bd5b11ab",
   "metadata": {},
   "source": [
    "Chapter 8"
   ]
  },
  {
   "cell_type": "markdown",
   "id": "e8a23f94-d4aa-4a33-9d19-0cda20839226",
   "metadata": {},
   "source": [
    "# Algorithm Workbench 2,7"
   ]
  },
  {
   "cell_type": "markdown",
   "id": "5d6dd904-04fb-4e24-8747-a4c475687696",
   "metadata": {},
   "source": [
    "## 2. write a loop that counts the number of space characters that appear in the strings referenced by mystring "
   ]
  },
  {
   "cell_type": "code",
   "execution_count": 5,
   "id": "68869435-bd91-4000-9df6-a9035241a95b",
   "metadata": {},
   "outputs": [
    {
     "ename": "SyntaxError",
     "evalue": "EOL while scanning string literal (1601936307.py, line 1)",
     "output_type": "error",
     "traceback": [
      "\u001b[0;36m  Input \u001b[0;32mIn [5]\u001b[0;36m\u001b[0m\n\u001b[0;31m    mystring = 'This is a sample string with spaces.\u001b[0m\n\u001b[0m                                                    ^\u001b[0m\n\u001b[0;31mSyntaxError\u001b[0m\u001b[0;31m:\u001b[0m EOL while scanning string literal\n"
     ]
    }
   ],
   "source": [
    "mystring = 'This is a sample string with spaces.\n",
    "\n",
    "# a counter to keep track of space characters\n",
    "space_count = 0\n",
    "\n",
    "# each character in the string\n",
    "for char in mystring:\n",
    "    if char == ' ':\n",
    "        space_count += 1\n",
    "\n",
    "# total count of space characters\n",
    "print('the number of space characters is:', space_count)"
   ]
  },
  {
   "cell_type": "markdown",
   "id": "16099be3-ba77-4e1e-8993-d62f7ca5df90",
   "metadata": {},
   "source": [
    "had to fix my quotations "
   ]
  },
  {
   "cell_type": "code",
   "execution_count": 7,
   "id": "c2d8aece-9cf0-439b-b8fd-eb9def6a842e",
   "metadata": {},
   "outputs": [
    {
     "name": "stdout",
     "output_type": "stream",
     "text": [
      "the number of space characters is: 6\n"
     ]
    }
   ],
   "source": [
    "mystring = 'This is a sample string with spaces.'\n",
    "\n",
    "# a counter to keep track of space characters\n",
    "space_count = 0\n",
    "\n",
    "# each character in the string\n",
    "for char in mystring:\n",
    "    if char == ' ':\n",
    "        space_count += 1\n",
    "\n",
    "# total count of space characters\n",
    "print('the number of space characters is:', space_count)"
   ]
  },
  {
   "cell_type": "markdown",
   "id": "c1f9f9fe-bc1c-4ea9-88d4-142261897c0c",
   "metadata": {},
   "source": [
    "## 7. write a function that accepts a string as an argument and displays the string backwards"
   ]
  },
  {
   "cell_type": "code",
   "execution_count": 13,
   "id": "be0ab23b-8514-4769-88bf-14d35c82456f",
   "metadata": {},
   "outputs": [],
   "source": [
    "def reverse_string(input_string):\n",
    "    reversed_string = input_string[::-1]\n",
    "    print('Original string:', input_string)\n",
    "    print('Reversed string:', reversed_string)"
   ]
  },
  {
   "cell_type": "markdown",
   "id": "8b95a0f0-77b2-4daa-8ee3-89ba54a9aee9",
   "metadata": {},
   "source": [
    "missing string?"
   ]
  },
  {
   "cell_type": "code",
   "execution_count": 18,
   "id": "1ad11b83-4293-43b2-9463-439a84ae870b",
   "metadata": {},
   "outputs": [
    {
     "name": "stdout",
     "output_type": "stream",
     "text": [
      "Original string: python is fun!\n",
      "Reversed string: !nuf si nohtyp\n"
     ]
    }
   ],
   "source": [
    "def reverse_string(input_string):\n",
    "    reversed_string = input_string[::-1]\n",
    "    print('Original string:', input_string)\n",
    "    print('Reversed string:', reversed_string)\n",
    "# test the function  \n",
    "my_string = 'python is fun!'\n",
    "reverse_string(my_string)"
   ]
  },
  {
   "cell_type": "code",
   "execution_count": 20,
   "id": "2c54d6ba-b3f3-4236-ba87-326d8eb08b75",
   "metadata": {},
   "outputs": [
    {
     "name": "stdout",
     "output_type": "stream",
     "text": [
      "Original string: averi cooper\n",
      "Reversed string: repooc ireva\n"
     ]
    }
   ],
   "source": [
    "def reverse_string(input_string):\n",
    "    reversed_string = input_string[::-1]\n",
    "    print('Original string:', input_string)\n",
    "    print('Reversed string:', reversed_string)\n",
    "# test the function  \n",
    "my_string = 'averi cooper'\n",
    "reverse_string(my_string)"
   ]
  },
  {
   "cell_type": "markdown",
   "id": "305c5992-4e9c-49e4-b19b-e305e318e029",
   "metadata": {},
   "source": [
    "# Programming exercises 1,3,9,10"
   ]
  },
  {
   "cell_type": "markdown",
   "id": "87605535-cdef-4f1f-9464-d215966da56d",
   "metadata": {},
   "source": [
    "## 1. write a program that gets a string containing a persons first, middle, and last names, and displays their first, middle, and last initials. for example,, if the user enters John William Smith, the program should display J.W.S."
   ]
  },
  {
   "cell_type": "code",
   "execution_count": null,
   "id": "aa18b887-a5c9-4376-895b-2b02b57020ad",
   "metadata": {},
   "outputs": [],
   "source": [
    "# get the full name from the user\n",
    "full_name = input(\"Enter your first, middle, and last names: \")\n",
    "\n",
    "# split full name into separate names\n",
    "names = full_name.split()\n",
    "\n",
    "# initialize variables to store initials\n",
    "initials = \"\"\n",
    "\n",
    "# Iterate through the names and extract the first character from each\n",
    "for name in names:\n",
    "    initials += name[0].upper() + \".\"\n",
    "\n",
    "# Display the initials\n",
    "print(\"Initials:\", initials)"
   ]
  }
 ],
 "metadata": {
  "kernelspec": {
   "display_name": "anaconda-2022.05-py39",
   "language": "python",
   "name": "conda-env-anaconda-2022.05-py39-py"
  },
  "language_info": {
   "codemirror_mode": {
    "name": "ipython",
    "version": 3
   },
   "file_extension": ".py",
   "mimetype": "text/x-python",
   "name": "python",
   "nbconvert_exporter": "python",
   "pygments_lexer": "ipython3",
   "version": "3.9.12"
  }
 },
 "nbformat": 4,
 "nbformat_minor": 5
}
