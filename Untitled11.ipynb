{
 "cells": [
  {
   "cell_type": "markdown",
   "id": "bdec41a0-5d47-4ddc-bdef-8266bd5b11ab",
   "metadata": {},
   "source": [
    "Chapter 8"
   ]
  },
  {
   "cell_type": "markdown",
   "id": "e8a23f94-d4aa-4a33-9d19-0cda20839226",
   "metadata": {},
   "source": [
    "# Algorithm Workbench 2,7"
   ]
  },
  {
   "cell_type": "markdown",
   "id": "5d6dd904-04fb-4e24-8747-a4c475687696",
   "metadata": {},
   "source": [
    "## 2. write a loop that counts the number of space characters that appear in the strings referenced by mystring "
   ]
  },
  {
   "cell_type": "code",
   "execution_count": 5,
   "id": "68869435-bd91-4000-9df6-a9035241a95b",
   "metadata": {},
   "outputs": [
    {
     "ename": "SyntaxError",
     "evalue": "EOL while scanning string literal (1601936307.py, line 1)",
     "output_type": "error",
     "traceback": [
      "\u001b[0;36m  Input \u001b[0;32mIn [5]\u001b[0;36m\u001b[0m\n\u001b[0;31m    mystring = 'This is a sample string with spaces.\u001b[0m\n\u001b[0m                                                    ^\u001b[0m\n\u001b[0;31mSyntaxError\u001b[0m\u001b[0;31m:\u001b[0m EOL while scanning string literal\n"
     ]
    }
   ],
   "source": [
    "mystring = 'This is a sample string with spaces.\n",
    "\n",
    "# a counter to keep track of space characters\n",
    "space_count = 0\n",
    "\n",
    "# each character in the string\n",
    "for char in mystring:\n",
    "    if char == ' ':\n",
    "        space_count += 1\n",
    "\n",
    "# total count of space characters\n",
    "print('the number of space characters is:', space_count)"
   ]
  },
  {
   "cell_type": "code",
   "execution_count": null,
   "id": "ee6b3b05-8ba5-4f5c-9934-511fc67d8b0b",
   "metadata": {},
   "outputs": [],
   "source": []
  }
 ],
 "metadata": {
  "kernelspec": {
   "display_name": "anaconda-2022.05-py39",
   "language": "python",
   "name": "conda-env-anaconda-2022.05-py39-py"
  },
  "language_info": {
   "codemirror_mode": {
    "name": "ipython",
    "version": 3
   },
   "file_extension": ".py",
   "mimetype": "text/x-python",
   "name": "python",
   "nbconvert_exporter": "python",
   "pygments_lexer": "ipython3",
   "version": "3.9.12"
  }
 },
 "nbformat": 4,
 "nbformat_minor": 5
}
